{
 "cells": [
  {
   "cell_type": "markdown",
   "metadata": {},
   "source": [
    "# Python Load Balancer with Interactive Dashboard\n",
    "\n",
    "This notebook implements a TCP load balancer with a real-time monitoring dashboard. The load balancer distributes incoming connections across multiple backend servers using a round-robin algorithm.\n",
    "\n",
    "## Features\n",
    "- TCP load balancing with configurable backends\n",
    "- Real-time connection monitoring\n",
    "- Interactive dashboard with statistics and visualizations\n",
    "- Connection management interface"
   ]
  },
  {
   "cell_type": "markdown",
   "metadata": {},
   "source": [
    "## Install Required Packages\n",
    "\n",
    "First, let's make sure we have all the required packages installed."
   ]
  },
  {
   "cell_type": "code",
   "execution_count": null,
   "metadata": {},
   "outputs": [],
   "source": [
    "# Uncomment and run this cell to install required packages\n",
    "# !pip install ipywidgets pandas plotly"
   ]
  },
  {
   "cell_type": "markdown",
   "metadata": {},
   "source": [
    "## Import Necessary Libraries"
   ]
  },
  {
   "cell_type": "code",
   "execution_count": null,
   "metadata": {},
   "outputs": [],
   "source": [
    "# Import standard libraries\n",
    "import socket\n",
    "import threading\n",
    "import time\n",
    "import random\n",
    "import logging\n",
    "import uuid\n",
    "from datetime import datetime, timedelta\n",
    "import queue\n",
    "\n",
    "# Import third-party libraries\n",
    "import ipywidgets as widgets\n",
    "from IPython.display import display, HTML, clear_output\n",
    "import pandas as pd\n",
    "import plotly.graph_objs as go\n",
    "\n",
    "# Import our load balancer modules\n",
    "from loadbalancer.core import LBManager\n",
    "from loadbalancer.stats import StatsCollector\n",
    "from loadbalancer.ui import LoadBalancerUI"
   ]
  },
  {
   "cell_type": "markdown",
   "metadata": {},
   "source": [
    "## Initialize the Load Balancer"
   ]
  },
  {
   "cell_type": "code",
   "execution_count": null,
   "metadata": {},
   "outputs": [],
   "source": [
    "# Create instances of our classes\n",
    "lb_manager = LBManager()\n",
    "stats_collector = StatsCollector(lb_manager)\n",
    "lb_ui = LoadBalancerUI(lb_manager, stats_collector)\n",
    "\n",
    "# Display the UI\n",
    "lb_ui.display()"
   ]
  },
  {
   "cell_type": "markdown",
   "metadata": {},
   "source": [
    "## Using the Load Balancer\n",
    "\n",
    "### Basic Usage\n",
    "1. Set the port on which the load balancer should listen (default: 8080)\n",
    "2. Enter the backend server addresses in the format `host:port`, one per line\n",
    "3. Click the \"Start\" button to start the load balancer\n",
    "4. The dashboard will show real-time statistics and active connections\n",
    "5. Click the \"Stop\" button to stop the load balancer\n",
    "\n",
    "### Testing the Load Balancer\n",
    "You can test the load balancer by setting up multiple server instances and then connecting clients to the load balancer port. For example, you could use simple Python socket servers as backends, and then use tools like `telnet` or `netcat` to connect to the load balancer.\n",
    "\n",
    "Example test backend server (run in separate terminals):\n",
    "```python\n",
    "import socket\n",
    "import threading\n",
    "\n",
    "def handle_client(conn, addr, server_id):\n",
    "    print(f\"Server {server_id}: New connection from {addr}\")\n",
    "    conn.send(f\"Hello from backend server {server_id}\\n\".encode())\n",
    "    while True:\n",
    "        try:\n",
    "            data = conn.recv(1024)\n",
    "            if not data:\n",
    "                break\n",
    "            print(f\"Server {server_id} received: {data.decode().strip()}\")\n",
    "            conn.send(f\"Server {server_id} echo: {data.decode()}\".encode())\n",
    "        except:\n",
    "            break\n",
    "    conn.close()\n",
    "    print(f\"Server {server_id}: Connection closed from {addr}\")\n",
    "\n",
    "def start_server(port, server_id):\n",
    "    server = socket.socket(socket.AF_INET, socket.SOCK_STREAM)\n",
    "    server.setsockopt(socket.SOL_SOCKET, socket.SO_REUSEADDR, 1)\n",
    "    server.bind(('0.0.0.0', port))\n",
    "    server.listen(5)\n",
    "    print(f\"Server {server_id} listening on port {port}\")\n",
    "    while True:\n",
    "        conn, addr = server.accept()\n",
    "        client_thread = threading.Thread(target=handle_client, args=(conn, addr, server_id))\n",
    "        client_thread.daemon = True\n",
    "        client_thread.start()\n",
    "\n",
    "# Start server\n",
    "server_id = 1  # Change for each server\n",
    "port = 8081  # Change for each server\n",
    "start_server(port, server_id)\n",
    "```"
   ]
  },
  {
   "cell_type": "markdown",
   "metadata": {},
   "source": [
    "## Example: Create Simple Backend Servers\n",
    "\n",
    "The following cell creates two simple backend servers for testing purposes."
   ]
  },
  {
   "cell_type": "code",
   "execution_count": null,
   "metadata": {},
   "outputs": [],
   "source": [
    "def create_test_servers():\n",
    "    \"\"\"\n",
    "    Create simple backend servers for testing.\n",
    "    Returns the server threads and a list of server ports.\n",
    "    \"\"\"\n",
    "    def handle_client(conn, addr, server_id):\n",
    "        print(f\"Server {server_id}: New connection from {addr}\")\n",
    "        conn.send(f\"Hello from backend server {server_id}\\n\".encode())\n",
    "        while True:\n",
    "            try:\n",
    "                data = conn.recv(1024)\n",
    "                if not data:\n",
    "                    break\n",
    "                print(f\"Server {server_id} received: {data.decode().strip()}\")\n",
    "                conn.send(f\"Server {server_id} echo: {data.decode()}\".encode())\n",
    "            except:\n",
    "                break\n",
    "        conn.close()\n",
    "        print(f\"Server {server_id}: Connection closed from {addr}\")\n",
    "\n",
    "    def server_thread(port, server_id):\n",
    "        server = socket.socket(socket.AF_INET, socket.SOCK_STREAM)\n",
    "        server.setsockopt(socket.SOL_SOCKET, socket.SO_REUSEADDR, 1)\n",
    "        server.bind(('0.0.0.0', port))\n",
    "        server.listen(5)\n",
    "        print(f\"Server {server_id} listening on port {port}\")\n",
    "        \n",
    "        while True:\n",
    "            try:\n",
    "                conn, addr = server.accept()\n",
    "                client_thread = threading.Thread(target=handle_client, args=(conn, addr, server_id))\n",
    "                client_thread.daemon = True\n",
    "                client_thread.start()\n",
    "            except:\n",
    "                break\n",
    "                \n",
    "        server.close()\n",
    "        print(f\"Server {server_id} stopped\")\n",
    "    \n",
    "    # Create and start two test servers\n",
    "    ports = [8081, 8082]\n",
    "    threads = []\n",
    "    \n",
    "    for i, port in enumerate(ports):\n",
    "        thread = threading.Thread(target=server_thread, args=(port, i+1))\n",
    "        thread.daemon = True\n",
    "        thread.start()\n",
    "        threads.append(thread)\n",
    "    \n",
    "    return threads, ports\n",
    "\n",
    "# Start test servers\n",
    "server_threads, server_ports = create_test_servers()\n",
    "print(f\"Started {len(server_ports)} test servers on ports {', '.join(map(str, server_ports))}\")"
   ]
  },
  {
   "cell_type": "markdown",
   "metadata": {},
   "source": [
    "## Example: Test Client Connection\n",
    "\n",
    "The following function creates a test client that connects to the load balancer."
   ]
  },
  {
   "cell_type": "code",
   "execution_count": null,
   "metadata": {},
   "outputs": [],
   "source": [
    "def test_client(lb_port, message=\"Hello from test client\", num_messages=5):\n",
    "    \"\"\"\n",
    "    Create a test client that connects to the load balancer and sends messages.\n",
    "    \"\"\"\n",
    "    try:\n",
    "        # Connect to the load balancer\n",
    "        client = socket.socket(socket.AF_INET, socket.SOCK_STREAM)\n",
    "        client.connect(('localhost', lb_port))\n",
    "        \n",
    "        # Receive the welcome message\n",
    "        welcome = client.recv(1024).decode()\n",
    "        print(f\"Received: {welcome}\")\n",
    "        \n",
    "        # Send some test messages\n",
    "        for i in range(num_messages):\n",
    "            msg = f\"{message} #{i+1}\"\n",
    "            print(f\"Sending: {msg}\")\n",
    "            client.send(msg.encode())\n",
    "            \n",
    "            # Receive the response\n",
    "            response = client.recv(1024).decode()\n",
    "            print(f\"Received: {response}\")\n",
    "            \n",
    "            # Add a small delay between messages\n",
    "            time.sleep(0.5)\n",
    "        \n",
    "        # Close the connection\n",
    "        client.close()\n",
    "        print(\"Client connection closed\")\n",
    "        \n",
    "    except Exception as e:\n",
    "        print(f\"Client error: {e}\")\n",
    "\n",
    "# Example usage (uncomment to run):\n",
    "# test_client(8080)"
   ]
  },
  {
   "cell_type": "markdown",
   "metadata": {},
   "source": [
    "## Load Testing\n",
    "\n",
    "This function creates multiple client connections to test the load balancer under load."
   ]
  },
  {
   "cell_type": "code",
   "execution_count": null,
   "metadata": {},
   "outputs": [],
   "source": [
    "def load_test(lb_port, num_clients=10, messages_per_client=3):\n",
    "    \"\"\"\n",
    "    Perform a load test by creating multiple client connections.\n",
    "    \"\"\"\n",
    "    def client_thread(client_id):\n",
    "        try:\n",
    "            test_client(lb_port, f\"Client {client_id} message\", messages_per_client)\n",
    "        except Exception as e:\n",
    "            print(f\"Client {client_id} error: {e}\")\n",
    "    \n",
    "    # Create and start client threads\n",
    "    threads = []\n",
    "    for i in range(num_clients):\n",
    "        thread = threading.Thread(target=client_thread, args=(i+1,))\n",
    "        thread.daemon = True\n",
    "        threads.append(thread)\n",
    "    \n",
    "    # Start all client threads\n",
    "    print(f\"Starting {num_clients} test clients connecting to port {lb_port}...\")\n",
    "    for thread in threads:\n",
    "        thread.start()\n",
    "        # Add a small delay between client starts to better visualize connections\n",
    "        time.sleep(0.2)\n",
    "    \n",
    "    # Wait for all clients to finish\n",
    "    for thread in threads:\n",
    "        thread.join()\n",
    "    \n",
    "    print(\"Load test completed\")\n",
    "\n",
    "# Example usage (uncomment to run):\n",
    "# load_test(8080, num_clients=5)"
   ]
  },
  {
   "cell_type": "markdown",
   "metadata": {},
   "source": [
    "## Cleanup\n",
    "\n",
    "Make sure to stop the load balancer and clean up resources when you're done."
   ]
  },
  {
   "cell_type": "code",
   "execution_count": null,
   "metadata": {},
   "outputs": [],
   "source": [
    "def cleanup():\n",
    "    \"\"\"Stop the load balancer and clean up resources.\"\"\"\n",
    "    # Stop the load balancer if it's running\n",
    "    if lb_manager.is_running():\n",
    "        lb_manager.stop_listener()\n",
    "        print(\"Load balancer stopped\")\n",
    "    \n",
    "    # Stop the stats collector\n",
    "    stats_collector.stop()\n",
    "    \n",
    "    # Shutdown the UI\n",
    "    lb_ui.shutdown()\n",
    "    \n",
    "    print(\"Cleanup completed\")\n",
    "\n",
    "# Register cleanup to run when the notebook is closed\n",
    "import atexit\n",
    "atexit.register(cleanup)"
   ]
  },
  {
   "cell_type": "markdown",
   "metadata": {},
   "source": [
    "## Conclusions and Improvements\n",
    "\n",
    "This interactive load balancer demonstrates the following capabilities:\n",
    "\n",
    "1. **TCP Load Balancing**: Distributes connections across multiple backend servers\n",
    "2. **Real-time Monitoring**: Shows active connections and statistics\n",
    "3. **Interactive UI**: Control the load balancer through a user-friendly interface\n",
    "4. **Data Visualization**: Graphs showing connection counts and throughput\n",
    "\n",
    "### Possible Improvements\n",
    "\n",
    "1. **Additional Load Balancing Algorithms**: Implement weighted round-robin, least connections, IP hash, etc.\n",
    "2. **SSL/TLS Support**: Add support for secure connections\n",
    "3. **Health Checks**: Periodically check backend server health and remove unhealthy servers\n",
    "4. **Connection Limiting**: Implement connection limits to prevent overload\n",
    "5. **Sticky Sessions**: Enable session persistence for certain types of applications\n",
    "6. **Export/Import Configuration**: Save and load load balancer configuration\n",
    "7. **REST API**: Add a REST API for programmatic control\n",
    "8. **User Authentication**: Add user authentication for the admin interface\n",
    "9. **Docker Integration**: Package as a containerized application\n",
    "10. **Improved Logging**: Enhanced logging with different log levels and output formats"
   ]
  }
 ],
 "metadata": {
  "kernelspec": {
   "display_name": "Python 3",
   "language": "python",
   "name": "python3"
  },
  "language_info": {
   "codemirror_mode": {
    "name": "ipython",
    "version": 3
   },
   "file_extension": ".py",
   "mimetype": "text/x-python",
   "name": "python",
   "nbconvert_exporter": "python",
   "pygments_lexer": "ipython3",
   "version": "3.8.10"
  }
 },
 "nbformat": 4,
 "nbformat_minor": 4
}
